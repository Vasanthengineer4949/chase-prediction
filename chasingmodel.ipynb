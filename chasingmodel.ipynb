{
 "cells": [
  {
   "cell_type": "code",
   "execution_count": 1,
   "metadata": {},
   "outputs": [],
   "source": [
    "import numpy as np\n",
    "import pandas as pd\n",
    "import matplotlib.pyplot as plt\n",
    "import seaborn as sns\n",
    "from sklearn.model_selection import train_test_split\n",
    "from lightgbm import LGBMClassifier\n",
    "from sklearn.metrics import accuracy_score, classification_report, confusion_matrix, roc_auc_score\n",
    "import joblib"
   ]
  },
  {
   "cell_type": "code",
   "execution_count": 2,
   "metadata": {},
   "outputs": [
    {
     "data": {
      "text/html": [
       "<div>\n",
       "<style scoped>\n",
       "    .dataframe tbody tr th:only-of-type {\n",
       "        vertical-align: middle;\n",
       "    }\n",
       "\n",
       "    .dataframe tbody tr th {\n",
       "        vertical-align: top;\n",
       "    }\n",
       "\n",
       "    .dataframe thead th {\n",
       "        text-align: right;\n",
       "    }\n",
       "</style>\n",
       "<table border=\"1\" class=\"dataframe\">\n",
       "  <thead>\n",
       "    <tr style=\"text-align: right;\">\n",
       "      <th></th>\n",
       "      <th>batting_team</th>\n",
       "      <th>bowling_team</th>\n",
       "      <th>city</th>\n",
       "      <th>runs_left</th>\n",
       "      <th>over</th>\n",
       "      <th>balls_left</th>\n",
       "      <th>wickets</th>\n",
       "      <th>total_runs_x</th>\n",
       "      <th>current_rr</th>\n",
       "      <th>required_rr</th>\n",
       "      <th>result</th>\n",
       "    </tr>\n",
       "  </thead>\n",
       "  <tbody>\n",
       "    <tr>\n",
       "      <th>0</th>\n",
       "      <td>Royal Challengers Bangalore</td>\n",
       "      <td>Sunrisers Hyderabad</td>\n",
       "      <td>Hyderabad</td>\n",
       "      <td>206</td>\n",
       "      <td>1</td>\n",
       "      <td>119</td>\n",
       "      <td>10</td>\n",
       "      <td>207</td>\n",
       "      <td>6.000000</td>\n",
       "      <td>10.386555</td>\n",
       "      <td>0</td>\n",
       "    </tr>\n",
       "    <tr>\n",
       "      <th>1</th>\n",
       "      <td>Royal Challengers Bangalore</td>\n",
       "      <td>Sunrisers Hyderabad</td>\n",
       "      <td>Hyderabad</td>\n",
       "      <td>206</td>\n",
       "      <td>1</td>\n",
       "      <td>118</td>\n",
       "      <td>10</td>\n",
       "      <td>207</td>\n",
       "      <td>3.000000</td>\n",
       "      <td>10.474576</td>\n",
       "      <td>0</td>\n",
       "    </tr>\n",
       "    <tr>\n",
       "      <th>2</th>\n",
       "      <td>Royal Challengers Bangalore</td>\n",
       "      <td>Sunrisers Hyderabad</td>\n",
       "      <td>Hyderabad</td>\n",
       "      <td>206</td>\n",
       "      <td>1</td>\n",
       "      <td>117</td>\n",
       "      <td>10</td>\n",
       "      <td>207</td>\n",
       "      <td>2.000000</td>\n",
       "      <td>10.564103</td>\n",
       "      <td>0</td>\n",
       "    </tr>\n",
       "    <tr>\n",
       "      <th>3</th>\n",
       "      <td>Royal Challengers Bangalore</td>\n",
       "      <td>Sunrisers Hyderabad</td>\n",
       "      <td>Hyderabad</td>\n",
       "      <td>204</td>\n",
       "      <td>1</td>\n",
       "      <td>116</td>\n",
       "      <td>10</td>\n",
       "      <td>207</td>\n",
       "      <td>4.500000</td>\n",
       "      <td>10.551724</td>\n",
       "      <td>0</td>\n",
       "    </tr>\n",
       "    <tr>\n",
       "      <th>4</th>\n",
       "      <td>Royal Challengers Bangalore</td>\n",
       "      <td>Sunrisers Hyderabad</td>\n",
       "      <td>Hyderabad</td>\n",
       "      <td>200</td>\n",
       "      <td>1</td>\n",
       "      <td>115</td>\n",
       "      <td>10</td>\n",
       "      <td>207</td>\n",
       "      <td>8.400000</td>\n",
       "      <td>10.434783</td>\n",
       "      <td>0</td>\n",
       "    </tr>\n",
       "    <tr>\n",
       "      <th>...</th>\n",
       "      <td>...</td>\n",
       "      <td>...</td>\n",
       "      <td>...</td>\n",
       "      <td>...</td>\n",
       "      <td>...</td>\n",
       "      <td>...</td>\n",
       "      <td>...</td>\n",
       "      <td>...</td>\n",
       "      <td>...</td>\n",
       "      <td>...</td>\n",
       "      <td>...</td>\n",
       "    </tr>\n",
       "    <tr>\n",
       "      <th>70804</th>\n",
       "      <td>Chennai Super Kings</td>\n",
       "      <td>Mumbai Indians</td>\n",
       "      <td>Hyderabad</td>\n",
       "      <td>12</td>\n",
       "      <td>19</td>\n",
       "      <td>9</td>\n",
       "      <td>5</td>\n",
       "      <td>152</td>\n",
       "      <td>7.567568</td>\n",
       "      <td>8.000000</td>\n",
       "      <td>0</td>\n",
       "    </tr>\n",
       "    <tr>\n",
       "      <th>70805</th>\n",
       "      <td>Chennai Super Kings</td>\n",
       "      <td>Mumbai Indians</td>\n",
       "      <td>Hyderabad</td>\n",
       "      <td>12</td>\n",
       "      <td>19</td>\n",
       "      <td>8</td>\n",
       "      <td>5</td>\n",
       "      <td>152</td>\n",
       "      <td>7.500000</td>\n",
       "      <td>9.000000</td>\n",
       "      <td>0</td>\n",
       "    </tr>\n",
       "    <tr>\n",
       "      <th>70806</th>\n",
       "      <td>Chennai Super Kings</td>\n",
       "      <td>Mumbai Indians</td>\n",
       "      <td>Hyderabad</td>\n",
       "      <td>10</td>\n",
       "      <td>19</td>\n",
       "      <td>7</td>\n",
       "      <td>5</td>\n",
       "      <td>152</td>\n",
       "      <td>7.539823</td>\n",
       "      <td>8.571429</td>\n",
       "      <td>0</td>\n",
       "    </tr>\n",
       "    <tr>\n",
       "      <th>70807</th>\n",
       "      <td>Chennai Super Kings</td>\n",
       "      <td>Mumbai Indians</td>\n",
       "      <td>Hyderabad</td>\n",
       "      <td>2</td>\n",
       "      <td>19</td>\n",
       "      <td>6</td>\n",
       "      <td>5</td>\n",
       "      <td>152</td>\n",
       "      <td>7.894737</td>\n",
       "      <td>2.000000</td>\n",
       "      <td>0</td>\n",
       "    </tr>\n",
       "    <tr>\n",
       "      <th>70808</th>\n",
       "      <td>Chennai Super Kings</td>\n",
       "      <td>Mumbai Indians</td>\n",
       "      <td>Hyderabad</td>\n",
       "      <td>1</td>\n",
       "      <td>20</td>\n",
       "      <td>5</td>\n",
       "      <td>5</td>\n",
       "      <td>152</td>\n",
       "      <td>7.878261</td>\n",
       "      <td>1.200000</td>\n",
       "      <td>0</td>\n",
       "    </tr>\n",
       "  </tbody>\n",
       "</table>\n",
       "<p>70809 rows × 11 columns</p>\n",
       "</div>"
      ],
      "text/plain": [
       "                      batting_team         bowling_team       city  runs_left  \\\n",
       "0      Royal Challengers Bangalore  Sunrisers Hyderabad  Hyderabad        206   \n",
       "1      Royal Challengers Bangalore  Sunrisers Hyderabad  Hyderabad        206   \n",
       "2      Royal Challengers Bangalore  Sunrisers Hyderabad  Hyderabad        206   \n",
       "3      Royal Challengers Bangalore  Sunrisers Hyderabad  Hyderabad        204   \n",
       "4      Royal Challengers Bangalore  Sunrisers Hyderabad  Hyderabad        200   \n",
       "...                            ...                  ...        ...        ...   \n",
       "70804          Chennai Super Kings       Mumbai Indians  Hyderabad         12   \n",
       "70805          Chennai Super Kings       Mumbai Indians  Hyderabad         12   \n",
       "70806          Chennai Super Kings       Mumbai Indians  Hyderabad         10   \n",
       "70807          Chennai Super Kings       Mumbai Indians  Hyderabad          2   \n",
       "70808          Chennai Super Kings       Mumbai Indians  Hyderabad          1   \n",
       "\n",
       "       over  balls_left  wickets  total_runs_x  current_rr  required_rr  \\\n",
       "0         1         119       10           207    6.000000    10.386555   \n",
       "1         1         118       10           207    3.000000    10.474576   \n",
       "2         1         117       10           207    2.000000    10.564103   \n",
       "3         1         116       10           207    4.500000    10.551724   \n",
       "4         1         115       10           207    8.400000    10.434783   \n",
       "...     ...         ...      ...           ...         ...          ...   \n",
       "70804    19           9        5           152    7.567568     8.000000   \n",
       "70805    19           8        5           152    7.500000     9.000000   \n",
       "70806    19           7        5           152    7.539823     8.571429   \n",
       "70807    19           6        5           152    7.894737     2.000000   \n",
       "70808    20           5        5           152    7.878261     1.200000   \n",
       "\n",
       "       result  \n",
       "0           0  \n",
       "1           0  \n",
       "2           0  \n",
       "3           0  \n",
       "4           0  \n",
       "...       ...  \n",
       "70804       0  \n",
       "70805       0  \n",
       "70806       0  \n",
       "70807       0  \n",
       "70808       0  \n",
       "\n",
       "[70809 rows x 11 columns]"
      ]
     },
     "execution_count": 2,
     "metadata": {},
     "output_type": "execute_result"
    }
   ],
   "source": [
    "data = pd.read_csv(\"chasing.csv\")\n",
    "data"
   ]
  },
  {
   "cell_type": "code",
   "execution_count": 3,
   "metadata": {},
   "outputs": [],
   "source": [
    "data['batting_team'] = data['batting_team'].str.replace('Deccan Chargers','Sunrisers Hyderabad')\n",
    "data['bowling_team'] = data['bowling_team'].str.replace('Deccan Chargers','Sunrisers Hyderabad')\n",
    "\n",
    "data['batting_team'] = data['batting_team'].str.replace('Delhi Daredevils','Delhi Capitals')\n",
    "data['bowling_team'] = data['bowling_team'].str.replace('Delhi Daredevils','Delhi Capitals')"
   ]
  },
  {
   "cell_type": "code",
   "execution_count": 4,
   "metadata": {},
   "outputs": [],
   "source": [
    "data.to_csv('chasing.csv', index=False)"
   ]
  },
  {
   "cell_type": "code",
   "execution_count": 5,
   "metadata": {},
   "outputs": [],
   "source": [
    "def targetGuidedOrdinalEncoding(df, feature, dependent_feature):\n",
    "    feature_label = df.groupby([feature])[dependent_feature].mean().sort_values().index\n",
    "    feature_label2 = {k: i for i, k in enumerate(feature_label, 0)}\n",
    "    print(feature_label2)\n",
    "    df[feature] = df[feature].map(feature_label2)"
   ]
  },
  {
   "cell_type": "code",
   "execution_count": 6,
   "metadata": {},
   "outputs": [
    {
     "name": "stdout",
     "output_type": "stream",
     "text": [
      "{'Sunrisers Hyderabad': 0, 'Kings XI Punjab': 1, 'Delhi Capitals': 2, 'Royal Challengers Bangalore': 3, 'Rajasthan Royals': 4, 'Mumbai Indians': 5, 'Kolkata Knight Riders': 6, 'Chennai Super Kings': 7}\n",
      "{'Mumbai Indians': 0, 'Chennai Super Kings': 1, 'Kings XI Punjab': 2, 'Rajasthan Royals': 3, 'Kolkata Knight Riders': 4, 'Sunrisers Hyderabad': 5, 'Royal Challengers Bangalore': 6, 'Delhi Capitals': 7}\n",
      "{'Cape Town': 0, 'Nagpur': 1, 'East London': 2, 'Chennai': 3, 'Abu Dhabi': 4, 'Durban': 5, 'Dharamsala': 6, 'Mumbai': 7, 'Ahmedabad': 8, 'Chandigarh': 9, 'Cuttack': 10, 'Bloemfontein': 11, 'Delhi': 12, 'Bengaluru': 13, 'Pune': 14, 'Hyderabad': 15, 'Bangalore': 16, 'Visakhapatnam': 17, 'Kolkata': 18, 'Mohali': 19, 'Port Elizabeth': 20, 'Johannesburg': 21, 'Sharjah': 22, 'Kimberley': 23, 'Jaipur': 24, 'Centurion': 25, 'Raipur': 26, 'Indore': 27, 'Ranchi': 28}\n"
     ]
    }
   ],
   "source": [
    "targetGuidedOrdinalEncoding(data, 'batting_team', 'result')\n",
    "targetGuidedOrdinalEncoding(data, 'bowling_team', 'result')\n",
    "targetGuidedOrdinalEncoding(data, 'city', 'result')"
   ]
  },
  {
   "cell_type": "code",
   "execution_count": 7,
   "metadata": {},
   "outputs": [],
   "source": [
    "X = data.drop(['result'], axis=1)\n",
    "y = data['result']"
   ]
  },
  {
   "cell_type": "code",
   "execution_count": 8,
   "metadata": {},
   "outputs": [],
   "source": [
    "X_train, X_test, y_train, y_test = train_test_split(X, y, test_size=0.2, random_state=42)"
   ]
  },
  {
   "cell_type": "code",
   "execution_count": 11,
   "metadata": {},
   "outputs": [],
   "source": [
    "from sklearn.ensemble import RandomForestClassifier\n",
    "from sklearn.linear_model import LogisticRegression\n",
    "from lightgbm import LGBMClassifier\n",
    "from sklearn.svm import SVC\n",
    "from sklearn.ensemble import VotingClassifier\n",
    "from sklearn.ensemble import StackingClassifier"
   ]
  },
  {
   "cell_type": "code",
   "execution_count": 12,
   "metadata": {},
   "outputs": [],
   "source": [
    "rf = RandomForestClassifier()\n",
    "lr = LogisticRegression()\n",
    "lgbm = LGBMClassifier()\n",
    "svc = SVC()\n",
    "vot = VotingClassifier(estimators=[('rf', rf), ('lr', lr), ('lgbm', lgbm)], voting='soft')\n",
    "stk = StackingClassifier(estimators=[('rf', rf), ('lgbm', lgbm)], final_estimator=lr)"
   ]
  },
  {
   "cell_type": "code",
   "execution_count": 13,
   "metadata": {},
   "outputs": [
    {
     "name": "stdout",
     "output_type": "stream",
     "text": [
      "              precision    recall  f1-score   support\n",
      "\n",
      "           0       1.00      1.00      1.00      6809\n",
      "           1       1.00      1.00      1.00      7353\n",
      "\n",
      "    accuracy                           1.00     14162\n",
      "   macro avg       1.00      1.00      1.00     14162\n",
      "weighted avg       1.00      1.00      1.00     14162\n",
      "\n"
     ]
    }
   ],
   "source": [
    "rf.fit(X_train, y_train)\n",
    "y_pred = rf.predict(X_test)\n",
    "print(classification_report(y_test, y_pred))"
   ]
  },
  {
   "cell_type": "code",
   "execution_count": 14,
   "metadata": {},
   "outputs": [
    {
     "name": "stdout",
     "output_type": "stream",
     "text": [
      "              precision    recall  f1-score   support\n",
      "\n",
      "           0       1.00      1.00      1.00      6809\n",
      "           1       1.00      1.00      1.00      7353\n",
      "\n",
      "    accuracy                           1.00     14162\n",
      "   macro avg       1.00      1.00      1.00     14162\n",
      "weighted avg       1.00      1.00      1.00     14162\n",
      "\n"
     ]
    }
   ],
   "source": [
    "stk.fit(X_train, y_train)\n",
    "y_pred = stk.predict(X_test)\n",
    "print(classification_report(y_test, y_pred))"
   ]
  },
  {
   "cell_type": "code",
   "execution_count": 28,
   "metadata": {},
   "outputs": [
    {
     "data": {
      "text/html": [
       "<style>#sk-container-id-1 {color: black;background-color: white;}#sk-container-id-1 pre{padding: 0;}#sk-container-id-1 div.sk-toggleable {background-color: white;}#sk-container-id-1 label.sk-toggleable__label {cursor: pointer;display: block;width: 100%;margin-bottom: 0;padding: 0.3em;box-sizing: border-box;text-align: center;}#sk-container-id-1 label.sk-toggleable__label-arrow:before {content: \"▸\";float: left;margin-right: 0.25em;color: #696969;}#sk-container-id-1 label.sk-toggleable__label-arrow:hover:before {color: black;}#sk-container-id-1 div.sk-estimator:hover label.sk-toggleable__label-arrow:before {color: black;}#sk-container-id-1 div.sk-toggleable__content {max-height: 0;max-width: 0;overflow: hidden;text-align: left;background-color: #f0f8ff;}#sk-container-id-1 div.sk-toggleable__content pre {margin: 0.2em;color: black;border-radius: 0.25em;background-color: #f0f8ff;}#sk-container-id-1 input.sk-toggleable__control:checked~div.sk-toggleable__content {max-height: 200px;max-width: 100%;overflow: auto;}#sk-container-id-1 input.sk-toggleable__control:checked~label.sk-toggleable__label-arrow:before {content: \"▾\";}#sk-container-id-1 div.sk-estimator input.sk-toggleable__control:checked~label.sk-toggleable__label {background-color: #d4ebff;}#sk-container-id-1 div.sk-label input.sk-toggleable__control:checked~label.sk-toggleable__label {background-color: #d4ebff;}#sk-container-id-1 input.sk-hidden--visually {border: 0;clip: rect(1px 1px 1px 1px);clip: rect(1px, 1px, 1px, 1px);height: 1px;margin: -1px;overflow: hidden;padding: 0;position: absolute;width: 1px;}#sk-container-id-1 div.sk-estimator {font-family: monospace;background-color: #f0f8ff;border: 1px dotted black;border-radius: 0.25em;box-sizing: border-box;margin-bottom: 0.5em;}#sk-container-id-1 div.sk-estimator:hover {background-color: #d4ebff;}#sk-container-id-1 div.sk-parallel-item::after {content: \"\";width: 100%;border-bottom: 1px solid gray;flex-grow: 1;}#sk-container-id-1 div.sk-label:hover label.sk-toggleable__label {background-color: #d4ebff;}#sk-container-id-1 div.sk-serial::before {content: \"\";position: absolute;border-left: 1px solid gray;box-sizing: border-box;top: 0;bottom: 0;left: 50%;z-index: 0;}#sk-container-id-1 div.sk-serial {display: flex;flex-direction: column;align-items: center;background-color: white;padding-right: 0.2em;padding-left: 0.2em;position: relative;}#sk-container-id-1 div.sk-item {position: relative;z-index: 1;}#sk-container-id-1 div.sk-parallel {display: flex;align-items: stretch;justify-content: center;background-color: white;position: relative;}#sk-container-id-1 div.sk-item::before, #sk-container-id-1 div.sk-parallel-item::before {content: \"\";position: absolute;border-left: 1px solid gray;box-sizing: border-box;top: 0;bottom: 0;left: 50%;z-index: -1;}#sk-container-id-1 div.sk-parallel-item {display: flex;flex-direction: column;z-index: 1;position: relative;background-color: white;}#sk-container-id-1 div.sk-parallel-item:first-child::after {align-self: flex-end;width: 50%;}#sk-container-id-1 div.sk-parallel-item:last-child::after {align-self: flex-start;width: 50%;}#sk-container-id-1 div.sk-parallel-item:only-child::after {width: 0;}#sk-container-id-1 div.sk-dashed-wrapped {border: 1px dashed gray;margin: 0 0.4em 0.5em 0.4em;box-sizing: border-box;padding-bottom: 0.4em;background-color: white;}#sk-container-id-1 div.sk-label label {font-family: monospace;font-weight: bold;display: inline-block;line-height: 1.2em;}#sk-container-id-1 div.sk-label-container {text-align: center;}#sk-container-id-1 div.sk-container {/* jupyter's `normalize.less` sets `[hidden] { display: none; }` but bootstrap.min.css set `[hidden] { display: none !important; }` so we also need the `!important` here to be able to override the default hidden behavior on the sphinx rendered scikit-learn.org. See: https://github.com/scikit-learn/scikit-learn/issues/21755 */display: inline-block !important;position: relative;}#sk-container-id-1 div.sk-text-repr-fallback {display: none;}</style><div id=\"sk-container-id-1\" class=\"sk-top-container\"><div class=\"sk-text-repr-fallback\"><pre>LGBMClassifier()</pre><b>In a Jupyter environment, please rerun this cell to show the HTML representation or trust the notebook. <br />On GitHub, the HTML representation is unable to render, please try loading this page with nbviewer.org.</b></div><div class=\"sk-container\" hidden><div class=\"sk-item\"><div class=\"sk-estimator sk-toggleable\"><input class=\"sk-toggleable__control sk-hidden--visually\" id=\"sk-estimator-id-1\" type=\"checkbox\" checked><label for=\"sk-estimator-id-1\" class=\"sk-toggleable__label sk-toggleable__label-arrow\">LGBMClassifier</label><div class=\"sk-toggleable__content\"><pre>LGBMClassifier()</pre></div></div></div></div></div>"
      ],
      "text/plain": [
       "LGBMClassifier()"
      ]
     },
     "execution_count": 28,
     "metadata": {},
     "output_type": "execute_result"
    }
   ],
   "source": [
    "model = LGBMClassifier()\n",
    "model.fit(X_train, y_train)"
   ]
  },
  {
   "cell_type": "code",
   "execution_count": 29,
   "metadata": {},
   "outputs": [
    {
     "name": "stdout",
     "output_type": "stream",
     "text": [
      "              precision    recall  f1-score   support\n",
      "\n",
      "           0       0.98      0.97      0.98      6809\n",
      "           1       0.97      0.98      0.98      7353\n",
      "\n",
      "    accuracy                           0.98     14162\n",
      "   macro avg       0.98      0.98      0.98     14162\n",
      "weighted avg       0.98      0.98      0.98     14162\n",
      "\n"
     ]
    }
   ],
   "source": [
    "y_pred = model.predict(X_test)\n",
    "print(classification_report(y_test, y_pred))"
   ]
  },
  {
   "cell_type": "code",
   "execution_count": null,
   "metadata": {},
   "outputs": [],
   "source": [
    "# final_df = deliveries[['batting_team','bowling_team','city','runs_left','over', \\\n",
    "#                      'balls_left','wickets','total_runs_x','current_rr','required_rr','result']]"
   ]
  },
  {
   "cell_type": "code",
   "execution_count": 67,
   "metadata": {},
   "outputs": [
    {
     "data": {
      "text/plain": [
       "['model.pkl']"
      ]
     },
     "execution_count": 67,
     "metadata": {},
     "output_type": "execute_result"
    }
   ],
   "source": [
    "joblib.dump(model, 'model.pkl')"
   ]
  },
  {
   "cell_type": "code",
   "execution_count": 15,
   "metadata": {},
   "outputs": [],
   "source": [
    "model = rf\n",
    "model2 = stk"
   ]
  },
  {
   "cell_type": "code",
   "execution_count": 20,
   "metadata": {},
   "outputs": [
    {
     "data": {
      "text/plain": [
       "['stk.pkl']"
      ]
     },
     "execution_count": 20,
     "metadata": {},
     "output_type": "execute_result"
    }
   ],
   "source": [
    "joblib.dump(model, 'rf.pkl')\n",
    "joblib.dump(model2, 'stk.pkl')"
   ]
  },
  {
   "cell_type": "code",
   "execution_count": 16,
   "metadata": {},
   "outputs": [
    {
     "name": "stderr",
     "output_type": "stream",
     "text": [
      "d:\\Anaconda3\\envs\\cricanalysis\\lib\\site-packages\\sklearn\\base.py:450: UserWarning: X does not have valid feature names, but RandomForestClassifier was fitted with feature names\n",
      "  warnings.warn(\n"
     ]
    },
    {
     "data": {
      "text/plain": [
       "array([[0.57, 0.43]])"
      ]
     },
     "execution_count": 16,
     "metadata": {},
     "output_type": "execute_result"
    }
   ],
   "source": [
    "batting_team = \"Kings XI Punjab\"\n",
    "bowling_team = \"Delhi Capitals\"\n",
    "city = \"Mumbai\"\n",
    "batting_team_enc = {'Sunrisers Hyderabad': 0, 'Kings XI Punjab': 1, 'Delhi Capitals': 2, 'Royal Challengers Bangalore': 3, 'Rajasthan Royals': 4, 'Mumbai Indians': 5, 'Kolkata Knight Riders': 6, 'Chennai Super Kings': 7}\n",
    "bowling_team_enc = {'Mumbai Indians': 0, 'Chennai Super Kings': 1, 'Kings XI Punjab': 2, 'Rajasthan Royals': 3, 'Kolkata Knight Riders': 4, 'Sunrisers Hyderabad': 5, 'Royal Challengers Bangalore': 6, 'Delhi Capitals': 7}\n",
    "city_enc ={'Cape Town': 0, 'Nagpur': 1, 'East London': 2, 'Chennai': 3, 'Abu Dhabi': 4, 'Durban': 5, 'Dharamsala': 6, 'Mumbai': 7, 'Ahmedabad': 8, 'Chandigarh': 9, 'Cuttack': 10, 'Bloemfontein': 11, 'Delhi': 12, 'Bengaluru': 13, 'Pune': 14, 'Hyderabad': 15, 'Bangalore': 16, 'Visakhapatnam': 17, 'Kolkata': 18, 'Mohali': 19, 'Port Elizabeth': 20, 'Johannesburg': 21, 'Sharjah': 22, 'Kimberley': 23, 'Jaipur': 24, 'Centurion': 25, 'Raipur': 26, 'Indore': 27, 'Ranchi': 28}\n",
    "batting_team = batting_team_enc[batting_team]\n",
    "bowling_team = bowling_team_enc[bowling_team]\n",
    "city = city_enc[city]\n",
    "runs_left = 120\n",
    "over = 5\n",
    "balls_left = 90\n",
    "wickets = 8\n",
    "total_runs_x = 170\n",
    "current_rr = ((total_runs_x - runs_left)/30)*6\n",
    "required_rr = 8.0\n",
    "model.predict_proba([[batting_team, bowling_team, city, runs_left, over, balls_left, wickets, total_runs_x, current_rr, required_rr]])"
   ]
  },
  {
   "cell_type": "code",
   "execution_count": 17,
   "metadata": {},
   "outputs": [
    {
     "name": "stderr",
     "output_type": "stream",
     "text": [
      "d:\\Anaconda3\\envs\\cricanalysis\\lib\\site-packages\\sklearn\\base.py:450: UserWarning: X does not have valid feature names, but RandomForestClassifier was fitted with feature names\n",
      "  warnings.warn(\n"
     ]
    },
    {
     "data": {
      "text/plain": [
       "array([[0.57, 0.43]])"
      ]
     },
     "execution_count": 17,
     "metadata": {},
     "output_type": "execute_result"
    }
   ],
   "source": [
    "batting_team = \"Kings XI Punjab\"\n",
    "bowling_team = \"Delhi Capitals\"\n",
    "city = \"Mumbai\"\n",
    "batting_team_enc = {'Sunrisers Hyderabad': 0, 'Kings XI Punjab': 1, 'Delhi Capitals': 2, 'Royal Challengers Bangalore': 3, 'Rajasthan Royals': 4, 'Mumbai Indians': 5, 'Kolkata Knight Riders': 6, 'Chennai Super Kings': 7}\n",
    "bowling_team_enc = {'Mumbai Indians': 0, 'Chennai Super Kings': 1, 'Kings XI Punjab': 2, 'Rajasthan Royals': 3, 'Kolkata Knight Riders': 4, 'Sunrisers Hyderabad': 5, 'Royal Challengers Bangalore': 6, 'Delhi Capitals': 7}\n",
    "city_enc ={'Cape Town': 0, 'Nagpur': 1, 'East London': 2, 'Chennai': 3, 'Abu Dhabi': 4, 'Durban': 5, 'Dharamsala': 6, 'Mumbai': 7, 'Ahmedabad': 8, 'Chandigarh': 9, 'Cuttack': 10, 'Bloemfontein': 11, 'Delhi': 12, 'Bengaluru': 13, 'Pune': 14, 'Hyderabad': 15, 'Bangalore': 16, 'Visakhapatnam': 17, 'Kolkata': 18, 'Mohali': 19, 'Port Elizabeth': 20, 'Johannesburg': 21, 'Sharjah': 22, 'Kimberley': 23, 'Jaipur': 24, 'Centurion': 25, 'Raipur': 26, 'Indore': 27, 'Ranchi': 28}\n",
    "batting_team = batting_team_enc[batting_team]\n",
    "bowling_team = bowling_team_enc[bowling_team]\n",
    "city = city_enc[city]\n",
    "runs_left = 120\n",
    "over = 5\n",
    "balls_left = 90\n",
    "wickets = 8\n",
    "total_runs_x = 170\n",
    "current_rr = ((total_runs_x - runs_left)/30)*6\n",
    "required_rr = 8.0\n",
    "model.predict_proba([[batting_team, bowling_team, city, runs_left, over, balls_left, wickets, total_runs_x, current_rr, required_rr]])"
   ]
  },
  {
   "cell_type": "code",
   "execution_count": 68,
   "metadata": {},
   "outputs": [],
   "source": [
    "required_rr = (runs_left/balls_left)*6"
   ]
  },
  {
   "cell_type": "code",
   "execution_count": 69,
   "metadata": {},
   "outputs": [
    {
     "data": {
      "text/plain": [
       "8.0"
      ]
     },
     "execution_count": 69,
     "metadata": {},
     "output_type": "execute_result"
    }
   ],
   "source": [
    "required_rr"
   ]
  },
  {
   "cell_type": "code",
   "execution_count": null,
   "metadata": {},
   "outputs": [],
   "source": []
  }
 ],
 "metadata": {
  "kernelspec": {
   "display_name": "Python 3.8.13 ('cricanalysis')",
   "language": "python",
   "name": "python3"
  },
  "language_info": {
   "codemirror_mode": {
    "name": "ipython",
    "version": 3
   },
   "file_extension": ".py",
   "mimetype": "text/x-python",
   "name": "python",
   "nbconvert_exporter": "python",
   "pygments_lexer": "ipython3",
   "version": "3.8.13"
  },
  "orig_nbformat": 4,
  "vscode": {
   "interpreter": {
    "hash": "99d1c24436160ac60b9a3b22c9d21e3b7211493a60ce4240502af52b5782d7d2"
   }
  }
 },
 "nbformat": 4,
 "nbformat_minor": 2
}
